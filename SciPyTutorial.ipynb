{
  "nbformat": 4,
  "nbformat_minor": 0,
  "metadata": {
    "colab": {
      "name": "SciPyTutorial.ipynb",
      "provenance": [],
      "collapsed_sections": []
    },
    "kernelspec": {
      "name": "python3",
      "display_name": "Python 3"
    }
  },
  "cells": [
    {
      "cell_type": "code",
      "metadata": {
        "id": "DE9RDsqSZ99d",
        "colab_type": "code",
        "colab": {}
      },
      "source": [
        "import numpy as np"
      ],
      "execution_count": 0,
      "outputs": []
    },
    {
      "cell_type": "code",
      "metadata": {
        "id": "jFttKdnCgz7b",
        "colab_type": "code",
        "colab": {
          "base_uri": "https://localhost:8080/",
          "height": 202
        },
        "outputId": "ba23fc74-59c3-499d-99a9-6dcfde97bb05"
      },
      "source": [
        "np.mgrid[0:5,0:5]"
      ],
      "execution_count": 3,
      "outputs": [
        {
          "output_type": "execute_result",
          "data": {
            "text/plain": [
              "array([[[0, 0, 0, 0, 0],\n",
              "        [1, 1, 1, 1, 1],\n",
              "        [2, 2, 2, 2, 2],\n",
              "        [3, 3, 3, 3, 3],\n",
              "        [4, 4, 4, 4, 4]],\n",
              "\n",
              "       [[0, 1, 2, 3, 4],\n",
              "        [0, 1, 2, 3, 4],\n",
              "        [0, 1, 2, 3, 4],\n",
              "        [0, 1, 2, 3, 4],\n",
              "        [0, 1, 2, 3, 4]]])"
            ]
          },
          "metadata": {
            "tags": []
          },
          "execution_count": 3
        }
      ]
    },
    {
      "cell_type": "code",
      "metadata": {
        "id": "B1YobXRXg8js",
        "colab_type": "code",
        "colab": {}
      },
      "source": [
        "from numpy import ogrid"
      ],
      "execution_count": 0,
      "outputs": []
    },
    {
      "cell_type": "code",
      "metadata": {
        "id": "mtrCmCADg_w1",
        "colab_type": "code",
        "colab": {
          "base_uri": "https://localhost:8080/",
          "height": 67
        },
        "outputId": "700cca37-2812-4e7f-8ff1-254923a69d94"
      },
      "source": [
        "ogrid[-10:10:10j] #j to see how many elements present in array"
      ],
      "execution_count": 7,
      "outputs": [
        {
          "output_type": "execute_result",
          "data": {
            "text/plain": [
              "array([-10.        ,  -7.77777778,  -5.55555556,  -3.33333333,\n",
              "        -1.11111111,   1.11111111,   3.33333333,   5.55555556,\n",
              "         7.77777778,  10.        ])"
            ]
          },
          "metadata": {
            "tags": []
          },
          "execution_count": 7
        }
      ]
    },
    {
      "cell_type": "code",
      "metadata": {
        "id": "TQbSSefDhSjO",
        "colab_type": "code",
        "colab": {
          "base_uri": "https://localhost:8080/",
          "height": 50
        },
        "outputId": "34f0d2a2-249d-4a52-8fac-d0e5553780ce"
      },
      "source": [
        "p=np.poly1d([1,2,3])\n",
        "print(p)"
      ],
      "execution_count": 9,
      "outputs": [
        {
          "output_type": "stream",
          "text": [
            "   2\n",
            "1 x + 2 x + 3\n"
          ],
          "name": "stdout"
        }
      ]
    },
    {
      "cell_type": "code",
      "metadata": {
        "id": "uwFZBs8BiFbQ",
        "colab_type": "code",
        "colab": {
          "base_uri": "https://localhost:8080/",
          "height": 34
        },
        "outputId": "e82d7508-46dc-42c8-d810-b3f75c89b069"
      },
      "source": [
        "p(5)"
      ],
      "execution_count": 11,
      "outputs": [
        {
          "output_type": "execute_result",
          "data": {
            "text/plain": [
              "38"
            ]
          },
          "metadata": {
            "tags": []
          },
          "execution_count": 11
        }
      ]
    },
    {
      "cell_type": "code",
      "metadata": {
        "id": "WCqhAS8KiRpC",
        "colab_type": "code",
        "colab": {
          "base_uri": "https://localhost:8080/",
          "height": 50
        },
        "outputId": "c6628675-4b03-48d6-e3cc-726d844a0fbc"
      },
      "source": [
        "print(p.c)\n",
        "p.c"
      ],
      "execution_count": 14,
      "outputs": [
        {
          "output_type": "stream",
          "text": [
            "[1 2 3]\n"
          ],
          "name": "stdout"
        },
        {
          "output_type": "execute_result",
          "data": {
            "text/plain": [
              "array([1, 2, 3])"
            ]
          },
          "metadata": {
            "tags": []
          },
          "execution_count": 14
        }
      ]
    },
    {
      "cell_type": "code",
      "metadata": {
        "id": "_imK1cmGia2U",
        "colab_type": "code",
        "colab": {
          "base_uri": "https://localhost:8080/",
          "height": 34
        },
        "outputId": "c08b21a4-f146-4d14-b3fd-0ba5f9f0b6da"
      },
      "source": [
        "p.order"
      ],
      "execution_count": 15,
      "outputs": [
        {
          "output_type": "execute_result",
          "data": {
            "text/plain": [
              "2"
            ]
          },
          "metadata": {
            "tags": []
          },
          "execution_count": 15
        }
      ]
    },
    {
      "cell_type": "code",
      "metadata": {
        "id": "dduuIxjsih45",
        "colab_type": "code",
        "colab": {
          "base_uri": "https://localhost:8080/",
          "height": 34
        },
        "outputId": "8ca6c4fb-6e09-4aaa-d545-f16f98ad0770"
      },
      "source": [
        "p[1]"
      ],
      "execution_count": 16,
      "outputs": [
        {
          "output_type": "execute_result",
          "data": {
            "text/plain": [
              "2"
            ]
          },
          "metadata": {
            "tags": []
          },
          "execution_count": 16
        }
      ]
    },
    {
      "cell_type": "code",
      "metadata": {
        "id": "qtOVmnDriqVf",
        "colab_type": "code",
        "colab": {
          "base_uri": "https://localhost:8080/",
          "height": 67
        },
        "outputId": "d7ebf78b-5ca6-45be-ee5c-11938999e00f"
      },
      "source": [
        "q=np.poly1d([1,4,10,20,35,44,46,40,25])\n",
        "print(q)\n",
        "q(1) #subsitute x=1 and calculate "
      ],
      "execution_count": 26,
      "outputs": [
        {
          "output_type": "stream",
          "text": [
            "   8     7      6      5      4      3      2\n",
            "1 x + 4 x + 10 x + 20 x + 35 x + 44 x + 46 x + 40 x + 25\n"
          ],
          "name": "stdout"
        },
        {
          "output_type": "execute_result",
          "data": {
            "text/plain": [
              "225"
            ]
          },
          "metadata": {
            "tags": []
          },
          "execution_count": 26
        }
      ]
    },
    {
      "cell_type": "markdown",
      "metadata": {
        "id": "FYGEYq49jUQz",
        "colab_type": "text"
      },
      "source": [
        "q.order"
      ]
    },
    {
      "cell_type": "markdown",
      "metadata": {
        "id": "BmA2nqNRj2z-",
        "colab_type": "text"
      },
      "source": [
        "[link text](https://)p=np.square(p)\n",
        "print(p)"
      ]
    },
    {
      "cell_type": "code",
      "metadata": {
        "id": "Wb0hjHomkKI9",
        "colab_type": "code",
        "colab": {
          "base_uri": "https://localhost:8080/",
          "height": 84
        },
        "outputId": "370e4fdc-595d-43ea-e10f-e8b533da0464"
      },
      "source": [
        "q= q*q\n",
        "print(q)"
      ],
      "execution_count": 32,
      "outputs": [
        {
          "output_type": "stream",
          "text": [
            "   16     15      14       13       12       11        10        9\n",
            "1 x  + 8 x  + 36 x  + 120 x  + 330 x  + 768 x  + 1544 x  + 2728 x\n",
            "         8        7        6        5        4        3        2\n",
            " + 4275 x + 5920 x + 7256 x + 7848 x + 7386 x + 5880 x + 3900 x + 2000 x + 625\n"
          ],
          "name": "stdout"
        }
      ]
    },
    {
      "cell_type": "code",
      "metadata": {
        "id": "I1_zAc21kWJO",
        "colab_type": "code",
        "colab": {
          "base_uri": "https://localhost:8080/",
          "height": 34
        },
        "outputId": "50ecc6f0-4c52-4eaa-b1f4-321bf54a52c4"
      },
      "source": [
        "q.order\n",
        "q[15]\n",
        "#q[0].dtype"
      ],
      "execution_count": 39,
      "outputs": [
        {
          "output_type": "execute_result",
          "data": {
            "text/plain": [
              "8"
            ]
          },
          "metadata": {
            "tags": []
          },
          "execution_count": 39
        }
      ]
    },
    {
      "cell_type": "code",
      "metadata": {
        "id": "1qeOrkPeoaNE",
        "colab_type": "code",
        "colab": {
          "base_uri": "https://localhost:8080/",
          "height": 34
        },
        "outputId": "73bf1b00-96d1-4ea6-fa5e-ca83a6f1fd16"
      },
      "source": [
        "np.poly1d([1,-1])* np.poly1d([1,-2])"
      ],
      "execution_count": 40,
      "outputs": [
        {
          "output_type": "execute_result",
          "data": {
            "text/plain": [
              "poly1d([ 1, -3,  2])"
            ]
          },
          "metadata": {
            "tags": []
          },
          "execution_count": 40
        }
      ]
    },
    {
      "cell_type": "code",
      "metadata": {
        "id": "iCokfZ0IpZQP",
        "colab_type": "code",
        "colab": {}
      },
      "source": [
        "def addsubtract(a,b):\n",
        "  if a > b:\n",
        "    return a - b\n",
        "  else:\n",
        "    return a + b"
      ],
      "execution_count": 0,
      "outputs": []
    },
    {
      "cell_type": "code",
      "metadata": {
        "id": "tvKniHPfpfuF",
        "colab_type": "code",
        "colab": {
          "base_uri": "https://localhost:8080/",
          "height": 34
        },
        "outputId": "8209a686-71d0-4364-f6e8-212b1cd8e254"
      },
      "source": [
        "vec_addsubtract = np.vectorize(addsubtract)\n",
        "vec_out= vec_addsubtract([1,2,3,4],2)\n",
        "type(vec_out)\n"
      ],
      "execution_count": 47,
      "outputs": [
        {
          "output_type": "execute_result",
          "data": {
            "text/plain": [
              "numpy.ndarray"
            ]
          },
          "metadata": {
            "tags": []
          },
          "execution_count": 47
        }
      ]
    },
    {
      "cell_type": "code",
      "metadata": {
        "id": "WEQzmIAlrLxl",
        "colab_type": "code",
        "colab": {}
      },
      "source": [
        "def mypolyval(p, x):\n",
        "    _p = list(p)\n",
        "    res = _p.pop(0)\n",
        "    while _p:\n",
        "        res = res*x + _p.pop(0)\n",
        "    return res\n"
      ],
      "execution_count": 0,
      "outputs": []
    },
    {
      "cell_type": "code",
      "metadata": {
        "id": "HR8pBrYprtE_",
        "colab_type": "code",
        "colab": {
          "base_uri": "https://localhost:8080/",
          "height": 34
        },
        "outputId": "d26190f5-9628-47ce-ea59-496c26b1f812"
      },
      "source": [
        "vpolyval = np.vectorize(mypolyval, excluded=['p']) ##excluded means \n",
        "vpolyval(p=[1, 2, 3], x=[0, 1])"
      ],
      "execution_count": 51,
      "outputs": [
        {
          "output_type": "execute_result",
          "data": {
            "text/plain": [
              "array([3, 6])"
            ]
          },
          "metadata": {
            "tags": []
          },
          "execution_count": 51
        }
      ]
    },
    {
      "cell_type": "code",
      "metadata": {
        "id": "9E9DfHert-dh",
        "colab_type": "code",
        "colab": {}
      },
      "source": [
        "import scipy.integrate as integrate\n",
        "import scipy.special as special\n"
      ],
      "execution_count": 0,
      "outputs": []
    },
    {
      "cell_type": "code",
      "metadata": {
        "id": "-H9PkMQiuDNm",
        "colab_type": "code",
        "colab": {
          "base_uri": "https://localhost:8080/",
          "height": 34
        },
        "outputId": "94fc72fb-83bc-4ea9-e555-5888c20bf6e8"
      },
      "source": [
        "result = integrate.quad(lambda x: special.jv(2.5,x), 0, 4.5)\n",
        "result"
      ],
      "execution_count": 53,
      "outputs": [
        {
          "output_type": "execute_result",
          "data": {
            "text/plain": [
              "(1.1178179380783253, 7.866317182537226e-09)"
            ]
          },
          "metadata": {
            "tags": []
          },
          "execution_count": 53
        }
      ]
    },
    {
      "cell_type": "code",
      "metadata": {
        "id": "eoooPOUVrrCQ",
        "colab_type": "code",
        "colab": {}
      },
      "source": [
        "def eggholder(x):\n",
        "    return (-(x[1] + 47) * np.sin(np.sqrt(abs(x[0]/2 + (x[1]  + 47))))\n",
        "            -x[0] * np.sin(np.sqrt(abs(x[0] - (x[1]  + 47)))))\n",
        "\n",
        "bounds = [(-512, 512), (-512, 512)]"
      ],
      "execution_count": 0,
      "outputs": []
    },
    {
      "cell_type": "code",
      "metadata": {
        "id": "VMONozA1xE1G",
        "colab_type": "code",
        "colab": {}
      },
      "source": [
        "import matplotlib.pyplot as plt\n",
        "from mpl_toolkits.mplot3d import Axes3D"
      ],
      "execution_count": 0,
      "outputs": []
    },
    {
      "cell_type": "code",
      "metadata": {
        "id": "tgaDrjexxHEl",
        "colab_type": "code",
        "colab": {
          "base_uri": "https://localhost:8080/",
          "height": 248
        },
        "outputId": "f9c9908a-3bbb-4ab1-c04f-e78b6a597766"
      },
      "source": [
        "x = np.arange(-512, 513)\n",
        "y = np.arange(-512, 513)\n",
        "xgrid, ygrid = np.meshgrid(x, y)\n",
        "xy = np.stack([xgrid, ygrid])\n",
        "\n",
        "fig = plt.figure()\n",
        "ax = fig.add_subplot(111, projection='3d')\n",
        "ax.view_init(45, -45)\n",
        "ax.plot_surface(xgrid, ygrid, eggholder(xy), cmap='terrain')\n",
        "ax.set_xlabel('x')\n",
        "ax.set_ylabel('y')\n",
        "ax.set_zlabel('eggholder(x, y)')\n",
        "plt.show()"
      ],
      "execution_count": 57,
      "outputs": [
        {
          "output_type": "display_data",
          "data": {
            "image/png": "[encoded data removed]",
            "text/plain": [
              "<Figure size 432x288 with 1 Axes>"
            ]
          },
          "metadata": {
            "tags": []
          }
        }
      ]
    },
    {
      "cell_type": "code",
      "metadata": {
        "id": "2PcsgqQizTvy",
        "colab_type": "code",
        "colab": {
          "base_uri": "https://localhost:8080/",
          "height": 202
        },
        "outputId": "e6ad7791-452e-4f24-8d2c-9d990a2f33d6"
      },
      "source": [
        "from scipy import optimize\n",
        "results = dict()\n",
        "results['shgo'] = optimize.shgo(eggholder, bounds)\n",
        "results['shgo']"
      ],
      "execution_count": 58,
      "outputs": [
        {
          "output_type": "execute_result",
          "data": {
            "text/plain": [
              "     fun: -935.3379515605128\n",
              "    funl: array([-935.33795156])\n",
              " message: 'Optimization terminated successfully.'\n",
              "    nfev: 55\n",
              "     nit: 2\n",
              "   nlfev: 50\n",
              "   nlhev: 0\n",
              "   nljev: 10\n",
              " success: True\n",
              "       x: array([439.48097806, 453.97741934])\n",
              "      xl: array([[439.48097806, 453.97741934]])"
            ]
          },
          "metadata": {
            "tags": []
          },
          "execution_count": 58
        }
      ]
    },
    {
      "cell_type": "code",
      "metadata": {
        "id": "eaM5PrhEzVKA",
        "colab_type": "code",
        "colab": {
          "base_uri": "https://localhost:8080/",
          "height": 168
        },
        "outputId": "ee8b8ac7-6992-4f17-baaf-37403af3ee26"
      },
      "source": [
        "results['DA'] = optimize.dual_annealing(eggholder, bounds)\n",
        "results['DA']"
      ],
      "execution_count": 59,
      "outputs": [
        {
          "output_type": "execute_result",
          "data": {
            "text/plain": [
              "     fun: -956.9182315924427\n",
              " message: ['Maximum number of iteration reached']\n",
              "    nfev: 4163\n",
              "    nhev: 0\n",
              "     nit: 1000\n",
              "    njev: 0\n",
              "  status: 0\n",
              " success: True\n",
              "       x: array([482.35371784, 432.87941092])"
            ]
          },
          "metadata": {
            "tags": []
          },
          "execution_count": 59
        }
      ]
    }
  ]
}