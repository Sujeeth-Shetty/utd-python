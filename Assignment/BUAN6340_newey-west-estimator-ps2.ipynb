{
 "cells": [
  {
   "cell_type": "markdown",
   "metadata": {},
   "source": [
    "# PS2: White Estimator\n"
   ]
  },
  {
   "cell_type": "code",
   "execution_count": 2,
   "metadata": {},
   "outputs": [],
   "source": [
    "import numpy as np"
   ]
  },
  {
   "cell_type": "code",
   "execution_count": null,
   "metadata": {},
   "outputs": [],
   "source": []
  },
  {
   "cell_type": "code",
   "execution_count": 3,
   "metadata": {},
   "outputs": [],
   "source": [
    "n = 1000\n",
    "x = np.random.normal(size=(n,2))\n",
    "y = np.random.normal(size=(n,1))\n",
    "ones = np.ones((n,1))\n",
    "x = np.hstack([ones,x])\n",
    "b = np.array([1,2,0]).reshape(-1,1)\n",
    "y += x@b"
   ]
  },
  {
   "cell_type": "code",
   "execution_count": 4,
   "metadata": {},
   "outputs": [],
   "source": [
    "# b = (x'x)^-1 x'y\n",
    "xx = np.matmul(x.T,x)\n",
    "xx = x.T@x\n",
    "xy = x.T@y\n",
    "b = np.linalg.inv(xx)@xy\n",
    "b = np.linalg.solve(xx,xy) \n",
    "# np.linalg.solve(A,b) = A^-1 b\n",
    "res = y-x@b\n",
    "rsq = 1-res.var()/y.var()\n",
    "vb = res.var()*np.linalg.inv(xx)\n",
    "se = np.sqrt(np.diagonal(vb)).reshape(-1,1)\n",
    "tstat = b/se"
   ]
  },
  {
   "cell_type": "code",
   "execution_count": 6,
   "metadata": {},
   "outputs": [
    {
     "data": {
      "text/plain": [
       "array([[ 1.01167952e-03,  2.45112217e-05, -6.87114533e-05],\n",
       "       [ 3.07022167e-05,  1.03616611e-03,  1.00148100e-06],\n",
       "       [-6.64740025e-05,  8.93226763e-05,  1.10944143e-03]])"
      ]
     },
     "execution_count": 6,
     "metadata": {},
     "output_type": "execute_result"
    }
   ],
   "source": [
    "#VHCE= (x'x)^-1 x' Ω x(x'x)^-1\n",
    "#VHCE=  A.Ω.B\n",
    "#Ω=diag(σ1^2 , σ1^2,.......σn^2)\n",
    "\n",
    "XtX_inv= np.linalg.inv(xx)\n",
    "A=XtX_inv.dot(np.transpose(x))\n",
    "B=x.dot(XtX_inv)\n",
    "res_hstack=np.hstack(res)\n",
    "res_sq=np.diag(res_hstack**2)\n",
    "std_dev_list=np.repeat(res.std(),n-1)\n",
    "np.fill_diagonal(res_sq[1:], std_dev_list)\n",
    "np.fill_diagonal(res_sq[:,1:], -std_dev_list)\n",
    "VHCE=A.dot(res_sq).dot(B)\n",
    "VHCE"
   ]
  }
 ],
 "metadata": {
  "kernelspec": {
   "display_name": "Python 3",
   "language": "python",
   "name": "python3"
  },
  "language_info": {
   "codemirror_mode": {
    "name": "ipython",
    "version": 3
   },
   "file_extension": ".py",
   "mimetype": "text/x-python",
   "name": "python",
   "nbconvert_exporter": "python",
   "pygments_lexer": "ipython3",
   "version": "3.7.3"
  }
 },
 "nbformat": 4,
 "nbformat_minor": 2
}
