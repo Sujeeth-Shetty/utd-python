{
 "cells": [
  {
   "cell_type": "markdown",
   "metadata": {},
   "source": [
    "# PS2: White Estimator\n"
   ]
  },
  {
   "cell_type": "code",
   "execution_count": 1,
   "metadata": {},
   "outputs": [],
   "source": [
    "import numpy as np"
   ]
  },
  {
   "cell_type": "code",
   "execution_count": 3,
   "metadata": {},
   "outputs": [],
   "source": [
    "n = 1000\n",
    "x = np.random.normal(size=(n,2))\n",
    "y = np.random.normal(size=(n,1))\n",
    "ones = np.ones((n,1))\n",
    "x = np.hstack([ones,x])\n",
    "b = np.array([1,2,0]).reshape(-1,1)\n",
    "y += x@b"
   ]
  },
  {
   "cell_type": "code",
   "execution_count": 4,
   "metadata": {},
   "outputs": [],
   "source": [
    "# b = (x'x)^-1 x'y\n",
    "xx = np.matmul(x.T,x)\n",
    "xx = x.T@x\n",
    "xy = x.T@y\n",
    "b = np.linalg.inv(xx)@xy\n",
    "b = np.linalg.solve(xx,xy) \n",
    "# np.linalg.solve(A,b) = A^-1 b\n",
    "res = y-x@b\n",
    "rsq = 1-res.var()/y.var()\n",
    "vb = res.var()*np.linalg.inv(xx)\n",
    "se = np.sqrt(np.diagonal(vb)).reshape(-1,1)\n",
    "tstat = b/se"
   ]
  },
  {
   "cell_type": "raw",
   "metadata": {},
   "source": [
    "print(res.var())"
   ]
  },
  {
   "cell_type": "code",
   "execution_count": 6,
   "metadata": {},
   "outputs": [
    {
     "data": {
      "text/plain": [
       "array([[ 1.05506912e-03,  2.55377274e-05, -1.26545686e-04],\n",
       "       [ 2.55377274e-05,  1.00085344e-03, -3.95859012e-05],\n",
       "       [-1.26545686e-04, -3.95859012e-05,  1.06748967e-03]])"
      ]
     },
     "execution_count": 6,
     "metadata": {},
     "output_type": "execute_result"
    }
   ],
   "source": [
    "#VHCE= (x'x)^-1 x' Ω x(x'x)^-1\n",
    "#VHCE=  A.Ω.B\n",
    "#Ω=diag(σ1^2 , σ1^2,.......σn^2)\n",
    "\n",
    "XtX_inv= np.linalg.inv(xx)\n",
    "A=XtX_inv.dot(np.transpose(x))\n",
    "B=x.dot(XtX_inv)\n",
    "res_hstack=np.hstack(res)\n",
    "\n",
    "VHCE=A.dot(np.diag(res_hstack**2)).dot(B)\n",
    "VHCE"
   ]
  },
  {
   "cell_type": "code",
   "execution_count": 8,
   "metadata": {},
   "outputs": [
    {
     "name": "stdout",
     "output_type": "stream",
     "text": [
      "1.0410298424435729\n"
     ]
    }
   ],
   "source": [
    "print(res.var())"
   ]
  }
 ],
 "metadata": {
  "kernelspec": {
   "display_name": "Python 3",
   "language": "python",
   "name": "python3"
  },
  "language_info": {
   "codemirror_mode": {
    "name": "ipython",
    "version": 3
   },
   "file_extension": ".py",
   "mimetype": "text/x-python",
   "name": "python",
   "nbconvert_exporter": "python",
   "pygments_lexer": "ipython3",
   "version": "3.7.3"
  }
 },
 "nbformat": 4,
 "nbformat_minor": 2
}
